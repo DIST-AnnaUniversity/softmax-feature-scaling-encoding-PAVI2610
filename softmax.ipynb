{
  "nbformat": 4,
  "nbformat_minor": 0,
  "metadata": {
    "colab": {
      "provenance": []
    },
    "kernelspec": {
      "name": "python3",
      "display_name": "Python 3"
    },
    "language_info": {
      "name": "python"
    }
  },
  "cells": [
    {
      "cell_type": "code",
      "execution_count": 1,
      "metadata": {
        "colab": {
          "base_uri": "https://localhost:8080/"
        },
        "id": "GXIRfMilYnZm",
        "outputId": "87eea5e4-4591-4cc8-9bb3-eedb94d45720"
      },
      "outputs": [
        {
          "output_type": "stream",
          "name": "stdout",
          "text": [
            "7.2 : 1339.430764394418\n",
            "2.5 : 12.182493960703473\n",
            "0.4 : 1.4918246976412703\n",
            "0.8 : 2.225540928492468\n",
            "denominator  1355.330623981255\n",
            "softmax result\n",
            "[0.988268648766947, 0.008988577211453878, 0.00110070906039079, 0.0016420649612084973]\n"
          ]
        }
      ],
      "source": [
        "#implementation of softmax\n",
        "from math import exp\n",
        "\n",
        "#find exponents\n",
        "x = [7.2,2.5,0.4,0.8]\n",
        "y = [0,0,0,0]\n",
        "soft_max_result = [0,0,0,0]\n",
        "\n",
        "#find exponents\n",
        "for i in range(len(x)):\n",
        "    y[i] = exp(x[i])\n",
        "    print(x[i],\":\",y[i])\n",
        "\n",
        "#normalize\n",
        "total_y = sum(y)\n",
        "print(\"denominator \", total_y)\n",
        "for i in range(len(x)):\n",
        "    soft_max_result[i] = y[i]/total_y\n",
        "print(\"softmax result\")\n",
        "print(soft_max_result)"
      ]
    }
  ]
}